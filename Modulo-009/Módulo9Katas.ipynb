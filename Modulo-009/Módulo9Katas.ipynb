{
 "cells": [
  {
   "cell_type": "code",
   "execution_count": 121,
   "metadata": {},
   "outputs": [
    {
     "name": "stdout",
     "output_type": "stream",
     "text": [
      "El promedio de combustible es:62.0\n"
     ]
    },
    {
     "data": {
      "text/plain": [
       "62.0"
      ]
     },
     "execution_count": 121,
     "metadata": {},
     "output_type": "execute_result"
    }
   ],
   "source": [
    "def combustible(tanque1,tanque2,tanque3):\n",
    "    promedio=(tanque1+tanque2+tanque3)/3\n",
    "    return f'''El promedio de combustible es:{promedio}'''\n",
    "\n",
    "print(combustible(100, 32, 54))\n",
    "\n",
    "def promedio(prom):\n",
    "    valor=sum(prom)\n",
    "    tanques=len(prom)\n",
    "    return valor /tanques\n",
    "promedio([100, 32, 54]) \n",
    "\n",
    "\n",
    "\n"
   ]
  },
  {
   "cell_type": "code",
   "execution_count": 120,
   "metadata": {},
   "outputs": [
    {
     "name": "stdout",
     "output_type": "stream",
     "text": [
      "    El promedio de combustible es: 39%\n",
      "    El tanque 1 tiene un porcentaje del: 65% de combustible\n",
      "    El tanque 2 tiene un porcentaje del: 20% de combustible\n",
      "    El tanque 3 tiene un porcentaje del: 33% de combustible\n"
     ]
    }
   ],
   "source": [
    "def promedio(prom):\n",
    "    valor=sum(prom)\n",
    "    tanques=len(prom)\n",
    "    return valor /tanques\n",
    "promedio([100, 32, 54]) \n",
    "\n",
    "def combustible(tanque1,tanque2,tanque3):\n",
    "    return f'''    El promedio de combustible es: {round(promedio([tanque1,tanque2,tanque3]))}%\n",
    "    El tanque 1 tiene un porcentaje del: {tanque1}% de combustible\n",
    "    El tanque 2 tiene un porcentaje del: {tanque2}% de combustible\n",
    "    El tanque 3 tiene un porcentaje del: {tanque3}% de combustible'''\n",
    "print(combustible(65,20,33))"
   ]
  },
  {
   "cell_type": "code",
   "execution_count": 131,
   "metadata": {},
   "outputs": [
    {
     "name": "stdout",
     "output_type": "stream",
     "text": [
      "\n",
      "Con un tiempo total de 40 minutos \n",
      "Con destino a Marte \n",
      "el total de combustible es de 140000 Litros\n",
      "    \n",
      "\n",
      "    mision a Jupiter\n",
      "    con un viaje estimado de 73 minutos\n",
      "    y un total de combustible de: 1700000 Litros\n",
      "    \n"
     ]
    }
   ],
   "source": [
    "def informe(h_prelanzamiento, tiempo_vuelo, destino, tanque_externo, tanque_interno):\n",
    "    return f'''\n",
    "Con un tiempo total de {h_prelanzamiento+tiempo_vuelo} minutos \n",
    "Con destino a {destino} \n",
    "el total de combustible es de {tanque_externo+tanque_interno} Litros\n",
    "    '''\n",
    "print(informe(16,24,\"Marte\",90000,50000))\n",
    "\n",
    "\n",
    "def informe(destino, *minutes, **fuel_reservoirs):\n",
    "    return f'''\n",
    "    mision a {destino}\n",
    "    con un viaje estimado de {sum(minutes)} minutos\n",
    "    y un total de combustible de: {sum(fuel_reservoirs.values())} Litros\n",
    "    '''\n",
    "print(informe(\"Jupiter\", 50, 12, 11, main=900000, external=800000))\n",
    "\n"
   ]
  },
  {
   "cell_type": "code",
   "execution_count": 149,
   "metadata": {},
   "outputs": [
    {
     "name": "stdout",
     "output_type": "stream",
     "text": [
      "\n",
      "    Mision a Jupiter\n",
      "    con un viaje estimado de 73 minutos\n",
      "    y un total de combustible de: 1700000 Litros\n",
      "    Tanque_Principal  900000\tTanque_Externo  800000\t\n"
     ]
    }
   ],
   "source": [
    "def informe(h_prelanzamiento, tiempo_vuelo, destino, tanque_externo, tanque_interno):\n",
    "    return f'''\n",
    "Con un tiempo total de {h_prelanzamiento+tiempo_vuelo} minutos \n",
    "Con destino a {destino} \n",
    "el total de combustible es de {tanque_externo+tanque_interno} Litros\n",
    "    '''\n",
    "# print(informe(16,24,\"Marte\",90000,50000))\n",
    "\n",
    "\n",
    "def informe(destino, *minutes, **fuel_reservoirs):\n",
    "    reporte= f'''\n",
    "    Mision a {destino}\n",
    "    con un viaje estimado de {sum(minutes)} minutos\n",
    "    y un total de combustible de: {sum(fuel_reservoirs.values())} Litros\n",
    "    '''\n",
    "    for tanque, litros in fuel_reservoirs.items():\n",
    "        reporte += f'{tanque}  {litros}\\t'\n",
    "    return reporte\n",
    "print(informe(\"Jupiter\", 50, 12, 11, Tanque_Principal=900000, Tanque_Externo=800000))\n"
   ]
  }
 ],
 "metadata": {
  "interpreter": {
   "hash": "71772fbb75bae22b306d381e70733993e1f6bb30a4de144ca6afe3f20d763aaa"
  },
  "kernelspec": {
   "display_name": "Python 3.10.1 64-bit",
   "language": "python",
   "name": "python3"
  },
  "language_info": {
   "codemirror_mode": {
    "name": "ipython",
    "version": 3
   },
   "file_extension": ".py",
   "mimetype": "text/x-python",
   "name": "python",
   "nbconvert_exporter": "python",
   "pygments_lexer": "ipython3",
   "version": "3.10.1"
  },
  "orig_nbformat": 4
 },
 "nbformat": 4,
 "nbformat_minor": 2
}
