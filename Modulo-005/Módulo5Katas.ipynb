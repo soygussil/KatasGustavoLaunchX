{
 "cells": [
  {
   "cell_type": "code",
   "execution_count": 37,
   "metadata": {},
   "outputs": [
    {
     "name": "stdout",
     "output_type": "stream",
     "text": [
      "la distancia entre jupiter y la tierra en Km es de: 628949330 km\n",
      "la distancia entre jupiter y la tierra en Millas es de: 390577533.93 millas\n"
     ]
    }
   ],
   "source": [
    "tierra=149597870\n",
    "jupiter=778547200\n",
    "\n",
    "distancia_tierra_jupiter=jupiter-tierra\n",
    "print('la distancia entre jupiter y la tierra en Km es de: '+str(distancia_tierra_jupiter)+' km')\n",
    "millas=0.621\n",
    "millas_dist=distancia_tierra_jupiter*millas\n",
    "print('la distancia entre jupiter y la tierra en Millas es de: '+str(millas_dist)+' millas')\n"
   ]
  },
  {
   "cell_type": "code",
   "execution_count": 55,
   "metadata": {},
   "outputs": [
    {
     "name": "stdout",
     "output_type": "stream",
     "text": [
      "La distancia entre Urano y Júpiter es de: 2093900000 Km\n",
      "El valor absoluto de los planetas es: 2093900000\n",
      "La distancia entre Urano y Júpiter en millas es de: 1300311900.0 millas\n"
     ]
    }
   ],
   "source": [
    "Urano=input('Ingrese la distancia al sol de Urano: ')\n",
    "Jupiter=input('Ingrese la distancia al sol de Júpiter: ')\n",
    "\n",
    "Urano=int(Urano)\n",
    "Jupiter=int(Jupiter)\n",
    "\n",
    "Distancia=Urano-Jupiter\n",
    "\n",
    "print('La distancia entre Urano y Júpiter es de: '+str(Distancia)+' Km')\n",
    "\n",
    "print('El valor absoluto de los planetas es: '+str(abs(Distancia)))\n",
    "\n",
    "dist_millas=Distancia*0.621\n",
    "print('La distancia entre Urano y Júpiter en millas es de: '+str(dist_millas)+' millas')\n",
    "\n",
    "\n",
    "\n",
    "\n"
   ]
  }
 ],
 "metadata": {
  "interpreter": {
   "hash": "71772fbb75bae22b306d381e70733993e1f6bb30a4de144ca6afe3f20d763aaa"
  },
  "kernelspec": {
   "display_name": "Python 3.10.1 64-bit",
   "language": "python",
   "name": "python3"
  },
  "language_info": {
   "codemirror_mode": {
    "name": "ipython",
    "version": 3
   },
   "file_extension": ".py",
   "mimetype": "text/x-python",
   "name": "python",
   "nbconvert_exporter": "python",
   "pygments_lexer": "ipython3",
   "version": "3.10.1"
  },
  "orig_nbformat": 4
 },
 "nbformat": 4,
 "nbformat_minor": 2
}
