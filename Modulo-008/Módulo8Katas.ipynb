{
 "cells": [
  {
   "cell_type": "code",
   "execution_count": 16,
   "metadata": {},
   "outputs": [
    {
     "name": "stdout",
     "output_type": "stream",
     "text": [
      "El planeta Marte tiene 2 lunas\n",
      "El planeta Marte tiene una circunferencia de 6752 km's\n"
     ]
    }
   ],
   "source": [
    "planet = {\n",
    "    'nombre': 'Marte',\n",
    "    'lunas': 2\n",
    "}\n",
    "\n",
    "print('El planeta',planet.get('nombre'),'tiene',planet.get('lunas'),'lunas')\n",
    "\n",
    "planet.update({'polar': 6752,'equatorial': 6792})\n",
    "print('El planeta',planet.get('nombre'), 'tiene una circunferencia de',planet.get('polar'),\"km's\")\n",
    "\n",
    "\n"
   ]
  },
  {
   "cell_type": "code",
   "execution_count": 26,
   "metadata": {},
   "outputs": [
    {
     "name": "stdout",
     "output_type": "stream",
     "text": [
      "12\n",
      "el promedio de lunas del sistema solar es de: 18 Lunas\n"
     ]
    }
   ],
   "source": [
    "planet_moons = {\n",
    "    'mercury': 0,\n",
    "    'venus': 0,\n",
    "    'earth': 1,\n",
    "    'mars': 2,\n",
    "    'jupiter': 79,\n",
    "    'saturn': 82,\n",
    "    'uranus': 27,\n",
    "    'neptune': 14,\n",
    "    'pluto': 5,\n",
    "    'haumea': 2,\n",
    "    'makemake': 1,\n",
    "    'eris': 1\n",
    "}\n",
    "\n",
    "\n",
    "moons=planet_moons.values()\n",
    "years = len(planet_moons.keys())\n",
    "print(years)\n",
    "\n",
    "\n",
    "total_moons=0\n",
    "for moon in moons:\n",
    "    total_moons=total_moons+moon\n",
    "prom=total_moons/years\n",
    "\n",
    "print('el promedio de lunas del sistema solar es de:',round(prom),'Lunas')\n",
    "\n"
   ]
  }
 ],
 "metadata": {
  "interpreter": {
   "hash": "71772fbb75bae22b306d381e70733993e1f6bb30a4de144ca6afe3f20d763aaa"
  },
  "kernelspec": {
   "display_name": "Python 3.10.1 64-bit",
   "language": "python",
   "name": "python3"
  },
  "language_info": {
   "codemirror_mode": {
    "name": "ipython",
    "version": 3
   },
   "file_extension": ".py",
   "mimetype": "text/x-python",
   "name": "python",
   "nbconvert_exporter": "python",
   "pygments_lexer": "ipython3",
   "version": "3.10.1"
  },
  "orig_nbformat": 4
 },
 "nbformat": 4,
 "nbformat_minor": 2
}
