{
 "cells": [
  {
   "cell_type": "markdown",
   "metadata": {},
   "source": [
    "#Para este ejercicio, escribirás una lógica condicional que imprima una advertencia si un asteroide se #acerca a la Tierra demasiado rápido. La velocidad del asteroide varía dependiendo de lo cerca que esté del #sol, y cualquier velocidad superior a 25 kilómetros por segundo (km/s) merece una advertencia.\n",
    "#Un asteroide se acerca, y viaja a una velocidad de 49 km/s.\n",
    "# Añadir el código necesario para crear una variable que guarde la velocidad del asteroide.\n",
    "# Escribe una expresión de prueba para calcular si necesita una advertencia.\n",
    "# Agregue las instrucciones que se ejecutarán si la expresión de prueba es true o false."
   ]
  },
  {
   "cell_type": "code",
   "execution_count": 2,
   "metadata": {},
   "outputs": [
    {
     "name": "stdout",
     "output_type": "stream",
     "text": [
      "El asteroide se acerca a la tierra\n"
     ]
    }
   ],
   "source": [
    "asteroide=49\n",
    "\n",
    "if asteroide >=25:\n",
    "    print(\"El asteroide se acerca a la tierra\")\n",
    "else:\n",
    "    print(\"el asteroide se acerca lento a la tierra\")"
   ]
  },
  {
   "cell_type": "code",
   "execution_count": null,
   "metadata": {},
   "outputs": [],
   "source": [
    "#Si un asteroide entra en la atmósfera de la Tierra a una velocidad mayor o igual a 20 km/s, \n",
    "# a veces produce un rayo de luz que se puede ver desde la Tierra. \n",
    "# Escribe la lógica condicional que usa declaraciones if, else, y elif \n",
    "# para alertar a las personas de todo el mundo que deben buscar un asteroide en el cielo. \n",
    "# ¡Hay uno que se dirige a la tierra ahora a una velocidad de 19 km/s!\n",
    "# Agrega el código para crear una variable para un asteroide que viaja a 19 km/s\n",
    "# Escribe varias expresiones de prueba para determinar si puedes ver el rayo de luz desde la tierra\n",
    "# Agrega las instrucciones que se ejecutarán si las expresiones de prueba son True o False"
   ]
  },
  {
   "cell_type": "code",
   "execution_count": 5,
   "metadata": {},
   "outputs": [
    {
     "name": "stdout",
     "output_type": "stream",
     "text": [
      "Alerta, un asteroide ha entrado a la atmosfera se ve el rayo de luz desde la tierra!\n"
     ]
    }
   ],
   "source": [
    "asteroide=19\n",
    "if asteroide >=20:\n",
    "    print(\"Alerta, un asteroide ha entrado a la atmosfera se ve el rayo de luz desde la tierra!\")\n",
    "elif asteroide ==20:\n",
    "    print(\"Que son esas luces en el cielo?\")\n",
    "else:\n",
    "    print(\"No hay nada por acá\")\n",
    "\n",
    "    "
   ]
  },
  {
   "cell_type": "code",
   "execution_count": 7,
   "metadata": {},
   "outputs": [
    {
     "name": "stdout",
     "output_type": "stream",
     "text": [
      "alerta, un asteroide ha entrado a la atmosfera, se ve un rayo de luz!!\n"
     ]
    }
   ],
   "source": [
    "tam_ast=65#km\n",
    "vel_ast=39#km/s\n",
    "\n",
    "if vel_ast >20 and tam_ast >20:\n",
    "    print(\"alerta, un asteroide ha entrado a la atmosfera, se ve un rayo de luz!!\")\n",
    "elif vel_ast<20:\n",
    "    print(\"todo bien por ahora en el cosmos\")\n",
    "elif tam_ast<25:\n",
    "    print(\"todo bien por ahora en el cosmos\")\n",
    "else:\n",
    "    print(\"Buen momento para ir a ver a Bad Bunny\")"
   ]
  },
  {
   "cell_type": "code",
   "execution_count": 23,
   "metadata": {},
   "outputs": [
    {
     "name": "stdout",
     "output_type": "stream",
     "text": [
      "El autobus esta en buen estado\n"
     ]
    }
   ],
   "source": [
    "#Prueba Extra\n",
    "#Un autobus viaja por carretera a 90 km/h.\n",
    "# Si el autobus viaja a más de 100 km/h, debe de activar la alarma.\n",
    "#el autobus debe de tener máximo 32 pasajeros.\n",
    "# Si el autobus tiene más de 32 pasajeros, debe de activar la alarma.\n",
    "\n",
    "vel_autobus=90\n",
    "pasajeros=20\n",
    "\n",
    "if vel_autobus >100 and pasajeros >32:\n",
    "    print(\"la alarma del autobus suena porque va a exceso de velocidad y porque hay muchos pasajeros\")\n",
    "elif vel_autobus>100:\n",
    "    print(\"El autobus va a exceso de velocidad!! Baja la velocidad\")\n",
    "elif pasajeros>32:\n",
    "    print(\"El autobus tiene muchos pasajeros!!\")\n",
    "else:\n",
    "    print(\"El autobus va a buena velocidad, y tiene menos de 32 pasajeros\")"
   ]
  }
 ],
 "metadata": {
  "interpreter": {
   "hash": "71772fbb75bae22b306d381e70733993e1f6bb30a4de144ca6afe3f20d763aaa"
  },
  "kernelspec": {
   "display_name": "Python 3.10.1 64-bit",
   "language": "python",
   "name": "python3"
  },
  "language_info": {
   "codemirror_mode": {
    "name": "ipython",
    "version": 3
   },
   "file_extension": ".py",
   "mimetype": "text/x-python",
   "name": "python",
   "nbconvert_exporter": "python",
   "pygments_lexer": "ipython3",
   "version": "3.10.1"
  },
  "orig_nbformat": 4
 },
 "nbformat": 4,
 "nbformat_minor": 2
}
