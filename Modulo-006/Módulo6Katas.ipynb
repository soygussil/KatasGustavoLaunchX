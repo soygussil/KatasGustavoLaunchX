{
 "cells": [
  {
   "cell_type": "code",
   "execution_count": 21,
   "metadata": {},
   "outputs": [
    {
     "name": "stdout",
     "output_type": "stream",
     "text": [
      "Tenemos a:  8 Planetas en la lista\n",
      "['Mercurio', 'Venus', 'Tierra', 'Marte', 'Jupiter', 'Saturno', 'Urano', 'Neptuno', 'Pluton']\n",
      "El último planeta es:  Pluton\n"
     ]
    }
   ],
   "source": [
    "list_planets = ['Mercurio', 'Venus', 'Tierra', 'Marte', 'Jupiter', 'Saturno', 'Urano', 'Neptuno']\n",
    "\n",
    "print('Tenemos a: ',len(list_planets),'Planetas en la lista')\n",
    "\n",
    "list_planets.append(input(\"Ingresa el último planeta: \"))\n",
    "\n",
    "print(list_planets)\n",
    "\n",
    "print('El último planeta es: ',list_planets[-1])\n"
   ]
  },
  {
   "cell_type": "code",
   "execution_count": 26,
   "metadata": {},
   "outputs": [
    {
     "name": "stdout",
     "output_type": "stream",
     "text": [
      "2\n",
      "el planeta más cercano al sol es: 2\n",
      "['Mercurio', 'Venus']\n",
      "El planeta más alejado al sol es\n",
      "['Marte', 'Jupiter', 'Saturno', 'Neptuno']\n"
     ]
    }
   ],
   "source": [
    "planetas = ['Mercurio', 'Venus', 'Tierra', 'Marte', 'Jupiter', 'Saturno', 'Neptuno']\n",
    "buscador=input('Cual planeta quieres buscar? ¡¡Nota!! Respetar mayúsculas y minúsculas: ')\n",
    "buscador_planetas=planetas.index(buscador)\n",
    "print(buscador_planetas)\n",
    "print('Los planetas más cercano al sol son:',buscador_planetas)\n",
    "print(planetas[0:buscador_planetas])\n",
    "print('Los planetas más alejado al sol son:')\n",
    "print(planetas[buscador_planetas+1:])"
   ]
  }
 ],
 "metadata": {
  "interpreter": {
   "hash": "71772fbb75bae22b306d381e70733993e1f6bb30a4de144ca6afe3f20d763aaa"
  },
  "kernelspec": {
   "display_name": "Python 3.10.1 64-bit",
   "language": "python",
   "name": "python3"
  },
  "language_info": {
   "codemirror_mode": {
    "name": "ipython",
    "version": 3
   },
   "file_extension": ".py",
   "mimetype": "text/x-python",
   "name": "python",
   "nbconvert_exporter": "python",
   "pygments_lexer": "ipython3",
   "version": "3.10.1"
  },
  "orig_nbformat": 4
 },
 "nbformat": 4,
 "nbformat_minor": 2
}
