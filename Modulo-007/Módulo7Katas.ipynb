{
 "cells": [
  {
   "cell_type": "code",
   "execution_count": 5,
   "metadata": {},
   "outputs": [
    {
     "name": "stdout",
     "output_type": "stream",
     "text": [
      "a\n",
      "marte\n",
      "jupiter\n",
      "urano\n",
      "saturno\n",
      "neptuno\n",
      "pluton\n",
      "done\n",
      "a\n",
      "marte\n",
      "jupiter\n",
      "urano\n",
      "saturno\n",
      "neptuno\n",
      "pluton\n"
     ]
    }
   ],
   "source": [
    "new_planet=''\n",
    "planets=[]\n",
    "\n",
    "while new_planet.lower()!='done':\n",
    "    if new_planet:\n",
    "        planets.append(new_planet)\n",
    "    new_planet=input('Ingresa el planeta que deseas agregar o escribe done para terminar')\n",
    "    print(new_planet)\n",
    "for planet in planets:\n",
    "    print(planet)\n",
    "\n"
   ]
  }
 ],
 "metadata": {
  "interpreter": {
   "hash": "71772fbb75bae22b306d381e70733993e1f6bb30a4de144ca6afe3f20d763aaa"
  },
  "kernelspec": {
   "display_name": "Python 3.10.1 64-bit",
   "language": "python",
   "name": "python3"
  },
  "language_info": {
   "codemirror_mode": {
    "name": "ipython",
    "version": 3
   },
   "file_extension": ".py",
   "mimetype": "text/x-python",
   "name": "python",
   "nbconvert_exporter": "python",
   "pygments_lexer": "ipython3",
   "version": "3.10.1"
  },
  "orig_nbformat": 4
 },
 "nbformat": 4,
 "nbformat_minor": 2
}
