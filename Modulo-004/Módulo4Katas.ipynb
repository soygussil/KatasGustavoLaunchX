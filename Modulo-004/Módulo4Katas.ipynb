{
 "cells": [
  {
   "cell_type": "code",
   "execution_count": 62,
   "metadata": {},
   "outputs": [
    {
     "name": "stdout",
     "output_type": "stream",
     "text": [
      "Interesting facts about the Moon\n",
      "The Moon is Earth's only satellite\n",
      "There are several interesting facts about the Moon and how it affects life here on Earth\n",
      "\n",
      "On average, the Moon moves 4cm away from the Earth every year\n",
      "This yearly drift is not significant enough to cause immediate effects on Earth\n",
      "The highest daylight temperature of the Moon is 127 C.\n",
      "\n",
      "\n",
      "The highest daylight temperature of the Moon is 127 Celsius.\n"
     ]
    }
   ],
   "source": [
    "\n",
    "text = \"\"\"Interesting facts about the Moon. The Moon is Earth's only satellite. There are several interesting facts about the Moon and how it affects life here on Earth. \n",
    "On average, the Moon moves 4cm away from the Earth every year. This yearly drift is not significant enough to cause immediate effects on Earth. The highest daylight temperature of the Moon is 127 C.\"\"\"\n",
    "\n",
    "splittext =text.split('. ')\n",
    "splittext\n",
    "\n",
    "# Palabras clave\n",
    "keywords=(\"average, temperature, distance\")\n",
    "\n",
    "\n",
    "for text_2 in splittext:\n",
    "     for k in keywords:\n",
    "         if k in text_2:\n",
    "             print(text_2)\n",
    "             break\n",
    "\n",
    "print('\\n')        \n",
    "replaced_text = text_2.replace('C', 'Celsius')\n",
    "print(replaced_text)\n",
    "   \n",
    "\n",
    "\n"
   ]
  },
  {
   "cell_type": "code",
   "execution_count": 110,
   "metadata": {},
   "outputs": [
    {
     "name": "stdout",
     "output_type": "stream",
     "text": [
      "Cosas acerca de la gravedad de la Luna\n",
      "--------------------------------------\n",
      " \n",
      "El planeta Tierra \n",
      "la Luna tiene una gravedad de 1.6199999999999999 kms/s^2\n",
      "\n",
      "--------------------------------------\n",
      " \n",
      "El planeta Marte  \n",
      "la Ganímedes tiene una gravedad de 0.00143 kms/s^2\n",
      "\n"
     ]
    }
   ],
   "source": [
    "# Datos con los que vas a trabajar\n",
    "\n",
    "nombre= \"Luna\"\n",
    "gravedad= 0.00162 # in kms\n",
    "planeta= \"Tierra\"\n",
    "\n",
    "title = f'Cosas acerca de la gravedad de la {nombre}'\n",
    "\n",
    "print(title)\n",
    "print(*'-'*len(title), sep='')\n",
    "info=f''' \n",
    "El planeta {planeta} \n",
    "la {nombre} tiene una gravedad de {gravedad*1000} kms/s^2\n",
    "'''\n",
    "print(info)\n",
    "\n",
    "\n",
    "planeta = 'Marte '\n",
    "gravedad  = 0.00143\n",
    "nombre = 'Ganímedes'\n",
    "\n",
    "\n",
    "print(*'-'*len(title), sep='')\n",
    "Template=f''' \n",
    "El planeta {planeta} \n",
    "la {nombre} tiene una gravedad de {gravedad} kms/s^2\n",
    "'''\n",
    "\n",
    "\n",
    "print(Template.format(planeta=planeta, gravedad=gravedad, nombre=nombre))\n"
   ]
  }
 ],
 "metadata": {
  "interpreter": {
   "hash": "71772fbb75bae22b306d381e70733993e1f6bb30a4de144ca6afe3f20d763aaa"
  },
  "kernelspec": {
   "display_name": "Python 3.10.1 64-bit",
   "language": "python",
   "name": "python3"
  },
  "language_info": {
   "codemirror_mode": {
    "name": "ipython",
    "version": 3
   },
   "file_extension": ".py",
   "mimetype": "text/x-python",
   "name": "python",
   "nbconvert_exporter": "python",
   "pygments_lexer": "ipython3",
   "version": "3.10.1"
  },
  "orig_nbformat": 4
 },
 "nbformat": 4,
 "nbformat_minor": 2
}
